{
 "cells": [
  {
   "cell_type": "code",
   "execution_count": 2,
   "metadata": {},
   "outputs": [],
   "source": [
    "import numpy as np\n",
    "import pandas as pd\n",
    "import matplotlib.pyplot as plt"
   ]
  },
  {
   "cell_type": "markdown",
   "metadata": {},
   "source": [
    "Use product data to compute the following using np: \n",
    "* extract the  Year_of_Birth, Education_Level, Marital_Status, Disposable_Income, No_of_Kids_in_home and       \n",
    "No_of_Teen_in_home column from the data\n",
    "\n",
    "* compute the aggregation of sum of Amount_on_Wines, Amount_on_Fruits, Amount_on_MeatProducts, Amount_on_FishProducts,\n",
    "Amount_on_SweetProducts,Amount_on_GoldProds, mean and median\n",
    "* compute the maximum  and minimum of Amount_on_Wines, Amount_on_Fruits, Amount_on_MeatProducts, Amount_on_FishProducts, \n",
    "Amount_on_SweetProducts,Amount_on_GoldProds  \n",
    "* indicate the Education_Level and Marital_Status with minimum  and maximum  Amount_on_Wines, Amount_on_Fruits, Amount_on_MeatProducts, Amount_on_FishProducts, \n",
    "Amount_on_SweetProducts,Amount_on_GoldProds\n",
    "* indicate the Year_of_Birth with minimum and maximum Amount_on_Wines, Amount_on_Fruits, Amount_on_MeatProducts, Amount_on_FishProducts, \n",
    "Amount_on_SweetProducts,Amount_on_GoldProds\n",
    "    "
   ]
  },
  {
   "cell_type": "code",
   "execution_count": 3,
   "metadata": {},
   "outputs": [
    {
     "data": {
      "text/html": [
       "<div>\n",
       "<style scoped>\n",
       "    .dataframe tbody tr th:only-of-type {\n",
       "        vertical-align: middle;\n",
       "    }\n",
       "\n",
       "    .dataframe tbody tr th {\n",
       "        vertical-align: top;\n",
       "    }\n",
       "\n",
       "    .dataframe thead th {\n",
       "        text-align: right;\n",
       "    }\n",
       "</style>\n",
       "<table border=\"1\" class=\"dataframe\">\n",
       "  <thead>\n",
       "    <tr style=\"text-align: right;\">\n",
       "      <th></th>\n",
       "      <th>Id</th>\n",
       "      <th>Year_Birth</th>\n",
       "      <th>Education</th>\n",
       "      <th>Marital_Status</th>\n",
       "      <th>Income</th>\n",
       "      <th>Kidhome</th>\n",
       "      <th>Teenhome</th>\n",
       "      <th>Dt_Customer</th>\n",
       "      <th>Recency</th>\n",
       "      <th>MntWines</th>\n",
       "      <th>...</th>\n",
       "      <th>MntFishProducts</th>\n",
       "      <th>MntSweetProducts</th>\n",
       "      <th>MntGoldProds</th>\n",
       "      <th>NumDealsPurchases</th>\n",
       "      <th>NumWebPurchases</th>\n",
       "      <th>NumCatalogPurchases</th>\n",
       "      <th>NumStorePurchases</th>\n",
       "      <th>NumWebVisitsMonth</th>\n",
       "      <th>Response</th>\n",
       "      <th>Complain</th>\n",
       "    </tr>\n",
       "  </thead>\n",
       "  <tbody>\n",
       "    <tr>\n",
       "      <th>0</th>\n",
       "      <td>1826</td>\n",
       "      <td>1970</td>\n",
       "      <td>Graduation</td>\n",
       "      <td>Divorced</td>\n",
       "      <td>84835.0</td>\n",
       "      <td>0</td>\n",
       "      <td>0</td>\n",
       "      <td>6/16/2014</td>\n",
       "      <td>0</td>\n",
       "      <td>189</td>\n",
       "      <td>...</td>\n",
       "      <td>111</td>\n",
       "      <td>189</td>\n",
       "      <td>218</td>\n",
       "      <td>1</td>\n",
       "      <td>4</td>\n",
       "      <td>4</td>\n",
       "      <td>6</td>\n",
       "      <td>1</td>\n",
       "      <td>1</td>\n",
       "      <td>0</td>\n",
       "    </tr>\n",
       "    <tr>\n",
       "      <th>1</th>\n",
       "      <td>1</td>\n",
       "      <td>1961</td>\n",
       "      <td>Graduation</td>\n",
       "      <td>Single</td>\n",
       "      <td>57091.0</td>\n",
       "      <td>0</td>\n",
       "      <td>0</td>\n",
       "      <td>6/15/2014</td>\n",
       "      <td>0</td>\n",
       "      <td>464</td>\n",
       "      <td>...</td>\n",
       "      <td>7</td>\n",
       "      <td>0</td>\n",
       "      <td>37</td>\n",
       "      <td>1</td>\n",
       "      <td>7</td>\n",
       "      <td>3</td>\n",
       "      <td>7</td>\n",
       "      <td>5</td>\n",
       "      <td>1</td>\n",
       "      <td>0</td>\n",
       "    </tr>\n",
       "    <tr>\n",
       "      <th>2</th>\n",
       "      <td>10476</td>\n",
       "      <td>1958</td>\n",
       "      <td>Graduation</td>\n",
       "      <td>Married</td>\n",
       "      <td>67267.0</td>\n",
       "      <td>0</td>\n",
       "      <td>1</td>\n",
       "      <td>5/13/2014</td>\n",
       "      <td>0</td>\n",
       "      <td>134</td>\n",
       "      <td>...</td>\n",
       "      <td>15</td>\n",
       "      <td>2</td>\n",
       "      <td>30</td>\n",
       "      <td>1</td>\n",
       "      <td>3</td>\n",
       "      <td>2</td>\n",
       "      <td>5</td>\n",
       "      <td>2</td>\n",
       "      <td>0</td>\n",
       "      <td>0</td>\n",
       "    </tr>\n",
       "    <tr>\n",
       "      <th>3</th>\n",
       "      <td>1386</td>\n",
       "      <td>1967</td>\n",
       "      <td>Graduation</td>\n",
       "      <td>Together</td>\n",
       "      <td>32474.0</td>\n",
       "      <td>1</td>\n",
       "      <td>1</td>\n",
       "      <td>11/5/2014</td>\n",
       "      <td>0</td>\n",
       "      <td>10</td>\n",
       "      <td>...</td>\n",
       "      <td>0</td>\n",
       "      <td>0</td>\n",
       "      <td>0</td>\n",
       "      <td>1</td>\n",
       "      <td>1</td>\n",
       "      <td>0</td>\n",
       "      <td>2</td>\n",
       "      <td>7</td>\n",
       "      <td>0</td>\n",
       "      <td>0</td>\n",
       "    </tr>\n",
       "    <tr>\n",
       "      <th>4</th>\n",
       "      <td>5371</td>\n",
       "      <td>1989</td>\n",
       "      <td>Graduation</td>\n",
       "      <td>Single</td>\n",
       "      <td>21474.0</td>\n",
       "      <td>1</td>\n",
       "      <td>0</td>\n",
       "      <td>8/4/2014</td>\n",
       "      <td>0</td>\n",
       "      <td>6</td>\n",
       "      <td>...</td>\n",
       "      <td>11</td>\n",
       "      <td>0</td>\n",
       "      <td>34</td>\n",
       "      <td>2</td>\n",
       "      <td>3</td>\n",
       "      <td>1</td>\n",
       "      <td>2</td>\n",
       "      <td>7</td>\n",
       "      <td>1</td>\n",
       "      <td>0</td>\n",
       "    </tr>\n",
       "  </tbody>\n",
       "</table>\n",
       "<p>5 rows × 22 columns</p>\n",
       "</div>"
      ],
      "text/plain": [
       "      Id  Year_Birth   Education Marital_Status   Income  Kidhome  Teenhome  \\\n",
       "0   1826        1970  Graduation       Divorced  84835.0        0         0   \n",
       "1      1        1961  Graduation         Single  57091.0        0         0   \n",
       "2  10476        1958  Graduation        Married  67267.0        0         1   \n",
       "3   1386        1967  Graduation       Together  32474.0        1         1   \n",
       "4   5371        1989  Graduation         Single  21474.0        1         0   \n",
       "\n",
       "  Dt_Customer  Recency  MntWines  ...  MntFishProducts  MntSweetProducts  \\\n",
       "0   6/16/2014        0       189  ...              111               189   \n",
       "1   6/15/2014        0       464  ...                7                 0   \n",
       "2   5/13/2014        0       134  ...               15                 2   \n",
       "3   11/5/2014        0        10  ...                0                 0   \n",
       "4    8/4/2014        0         6  ...               11                 0   \n",
       "\n",
       "   MntGoldProds  NumDealsPurchases  NumWebPurchases  NumCatalogPurchases  \\\n",
       "0           218                  1                4                    4   \n",
       "1            37                  1                7                    3   \n",
       "2            30                  1                3                    2   \n",
       "3             0                  1                1                    0   \n",
       "4            34                  2                3                    1   \n",
       "\n",
       "   NumStorePurchases  NumWebVisitsMonth  Response  Complain  \n",
       "0                  6                  1         1         0  \n",
       "1                  7                  5         1         0  \n",
       "2                  5                  2         0         0  \n",
       "3                  2                  7         0         0  \n",
       "4                  2                  7         1         0  \n",
       "\n",
       "[5 rows x 22 columns]"
      ]
     },
     "execution_count": 3,
     "metadata": {},
     "output_type": "execute_result"
    }
   ],
   "source": [
    "data = pd.read_csv('superstore_data.csv')\n",
    "data.head()"
   ]
  },
  {
   "cell_type": "code",
   "execution_count": 4,
   "metadata": {},
   "outputs": [
    {
     "name": "stdout",
     "output_type": "stream",
     "text": [
      "<class 'pandas.core.frame.DataFrame'>\n",
      "RangeIndex: 2240 entries, 0 to 2239\n",
      "Data columns (total 22 columns):\n",
      " #   Column               Non-Null Count  Dtype  \n",
      "---  ------               --------------  -----  \n",
      " 0   Id                   2240 non-null   int64  \n",
      " 1   Year_Birth           2240 non-null   int64  \n",
      " 2   Education            2240 non-null   object \n",
      " 3   Marital_Status       2240 non-null   object \n",
      " 4   Income               2216 non-null   float64\n",
      " 5   Kidhome              2240 non-null   int64  \n",
      " 6   Teenhome             2240 non-null   int64  \n",
      " 7   Dt_Customer          2240 non-null   object \n",
      " 8   Recency              2240 non-null   int64  \n",
      " 9   MntWines             2240 non-null   int64  \n",
      " 10  MntFruits            2240 non-null   int64  \n",
      " 11  MntMeatProducts      2240 non-null   int64  \n",
      " 12  MntFishProducts      2240 non-null   int64  \n",
      " 13  MntSweetProducts     2240 non-null   int64  \n",
      " 14  MntGoldProds         2240 non-null   int64  \n",
      " 15  NumDealsPurchases    2240 non-null   int64  \n",
      " 16  NumWebPurchases      2240 non-null   int64  \n",
      " 17  NumCatalogPurchases  2240 non-null   int64  \n",
      " 18  NumStorePurchases    2240 non-null   int64  \n",
      " 19  NumWebVisitsMonth    2240 non-null   int64  \n",
      " 20  Response             2240 non-null   int64  \n",
      " 21  Complain             2240 non-null   int64  \n",
      "dtypes: float64(1), int64(18), object(3)\n",
      "memory usage: 385.1+ KB\n"
     ]
    }
   ],
   "source": [
    "data.info()"
   ]
  },
  {
   "cell_type": "code",
   "execution_count": 5,
   "metadata": {},
   "outputs": [],
   "source": [
    "year_of_birth = data.Year_Birth\n",
    "education_lvl = data.Education\n",
    "marital_stat = data.Marital_Status\n",
    "disposabe_income = data.Income\n",
    "kidshome = data.Kidhome\n",
    "teenshome = data.Teenhome\n",
    "amt_wine = data.MntWines\n",
    "amt_fruits = data.MntFruits\n",
    "amt_fish_prod = data.MntFishProducts\n",
    "amt_meat_prod = data.MntMeatProducts\n",
    "amt_sweet_prod = data.MntSweetProducts\n",
    "amt_gold_prod = data.MntGoldProds\n",
    "no_dealPurchase = data.NumDealsPurchases\n",
    "no_webPurchase = data.NumWebPurchases"
   ]
  },
  {
   "cell_type": "code",
   "execution_count": 6,
   "metadata": {},
   "outputs": [],
   "source": [
    "# Aggregration of different columns of the data set\n",
    "# aggregrate sum of all the products purchased\n",
    "tot_wine = np.sum(amt_wine)\n",
    "tot_fruits = np.sum(amt_fruits)\n",
    "tot_meat = np.sum(amt_meat_prod)\n",
    "tot_fish = np.sum(amt_fish_prod)\n",
    "tot_gold = np.sum(amt_gold_prod)\n",
    "tot_sweets = np.sum(amt_sweet_prod)\n",
    "\n",
    "# Mean value of each product\n",
    "avg_wine = np.mean(amt_wine).round(2)\n",
    "avg_fruit = np.mean(amt_wine).round(2)\n",
    "avg_meat = np.mean(amt_meat_prod).round(2)\n",
    "avg_fish = np.mean(amt_fish_prod).round(2)\n",
    "avg_gold = np.mean(amt_gold_prod).round(2)\n",
    "avg_sweets = np.mean(amt_sweet_prod).round(2)\n",
    "avg_vals = [avg_wine, avg_fruit, avg_meat, avg_fish, avg_sweets, avg_gold]\n",
    "\n",
    "# Median value of each product\n",
    "mid_wine = np.median(amt_wine).round(2)\n",
    "mid_fruit = np.median(amt_wine).round(2)\n",
    "mid_meat = np.median(amt_meat_prod).round(2)\n",
    "mid_fish = np.median(amt_fish_prod).round(2)\n",
    "mid_gold = np.median(amt_gold_prod).round(2)\n",
    "mid_sweets = np.median(amt_sweet_prod).round(2)\n",
    "mid_vals = [mid_wine, mid_fruit, mid_meat, mid_fish, mid_sweets, mid_gold]\n"
   ]
  },
  {
   "cell_type": "code",
   "execution_count": 7,
   "metadata": {},
   "outputs": [],
   "source": [
    "# Maximum and minimum values of each product\n",
    "\n",
    "# Maximum \n",
    "max_wine = np.max(amt_wine)\n",
    "max_fruits = np.max(amt_fruits)\n",
    "max_meat = np.max(amt_meat_prod)\n",
    "max_fish = np.max(amt_fish_prod)\n",
    "max_gold = np.max(amt_gold_prod)\n",
    "max_sweets = np.max(amt_sweet_prod)\n",
    "max_vals = [max_wine, max_fruits, max_meat, max_fish, max_sweets, max_gold]\n",
    "\n",
    "# Minimum\n",
    "min_wine = np.min(amt_wine)\n",
    "min_fruits = np.min(amt_fruits)\n",
    "min_meat = np.min(amt_meat_prod)\n",
    "min_fish = np.min(amt_fish_prod)\n",
    "min_gold = np.min(amt_gold_prod)\n",
    "min_sweets = np.min(amt_sweet_prod)\n",
    "min_vals = [min_wine, min_fruits, min_meat, min_fish, min_sweets, min_gold]"
   ]
  },
  {
   "cell_type": "code",
   "execution_count": 8,
   "metadata": {},
   "outputs": [
    {
     "data": {
      "text/plain": [
       "1961"
      ]
     },
     "execution_count": 8,
     "metadata": {},
     "output_type": "execute_result"
    }
   ],
   "source": [
    "# Education lvl with maximum and minimum purchase of each product \n",
    "# Marital status with maximum and minimum purchase of each product \n",
    "\n",
    "# Maximum \n",
    "argmax_wine = np.argmax(amt_wine)\n",
    "argmax_fruits = np.argmax(amt_fruits)\n",
    "argmax_meat = np.argmax(amt_meat_prod)\n",
    "argmax_fish = np.argmax(amt_fish_prod)\n",
    "argmax_gold = np.argmax(amt_gold_prod)\n",
    "argmax_sweets = np.argmax(amt_sweet_prod)\n",
    "\n",
    "# Minimum\n",
    "argmin_wine = np.argmin(amt_wine)\n",
    "argmin_fruits = np.argmin(amt_fruits)\n",
    "argmin_meat = np.argmin(amt_meat_prod)\n",
    "argmin_fish = np.argmin(amt_fish_prod)\n",
    "argmin_gold = np.argmin(amt_gold_prod)\n",
    "argmin_sweets = np.argmin(amt_sweet_prod)\n",
    "\n",
    "# Education lvl\n",
    "education_lvl[argmax_wine]\n",
    "education_lvl[argmin_wine]\n",
    "education_lvl[argmax_fruits]\n",
    "education_lvl[argmin_fruits]\n",
    "education_lvl[argmax_fish]\n",
    "education_lvl[argmin_fish]\n",
    "education_lvl[argmax_meat]\n",
    "education_lvl[argmin_meat]\n",
    "education_lvl[argmax_gold]\n",
    "education_lvl[argmin_gold]\n",
    "education_lvl[argmax_sweets]\n",
    "education_lvl[argmin_sweets]\n",
    "\n",
    "\n",
    "# Marital status\n",
    "marital_stat[argmax_wine]\n",
    "marital_stat[argmin_wine]\n",
    "marital_stat[argmax_fruits]\n",
    "marital_stat[argmin_fruits]\n",
    "marital_stat[argmax_fish]\n",
    "marital_stat[argmin_fish]\n",
    "marital_stat[argmax_meat]\n",
    "marital_stat[argmin_meat]\n",
    "marital_stat[argmax_gold]\n",
    "marital_stat[argmin_gold]\n",
    "marital_stat[argmax_sweets]\n",
    "marital_stat[argmin_sweets]\n",
    "\n",
    "\n",
    "# Year of birth\n",
    "year_of_birth[argmax_wine]\n",
    "year_of_birth[argmin_wine]\n",
    "year_of_birth[argmax_fruits]\n",
    "year_of_birth[argmin_fruits]\n",
    "year_of_birth[argmax_fish]\n",
    "year_of_birth[argmin_fish]\n",
    "year_of_birth[argmax_meat]\n",
    "year_of_birth[argmin_meat]\n",
    "year_of_birth[argmax_gold]\n",
    "year_of_birth[argmin_gold]\n",
    "year_of_birth[argmax_sweets]\n",
    "year_of_birth[argmin_sweets]"
   ]
  },
  {
   "cell_type": "code",
   "execution_count": 9,
   "metadata": {},
   "outputs": [
    {
     "data": {
      "text/plain": [
       "449"
      ]
     },
     "execution_count": 9,
     "metadata": {},
     "output_type": "execute_result"
    }
   ],
   "source": [
    "argmin_sweets\n",
    "argmax_sweets"
   ]
  },
  {
   "cell_type": "markdown",
   "metadata": {},
   "source": [
    "Data Visualization"
   ]
  },
  {
   "cell_type": "code",
   "execution_count": 10,
   "metadata": {},
   "outputs": [
    {
     "data": {
      "text/plain": [
       "<function matplotlib.pyplot.show(close=None, block=None)>"
      ]
     },
     "execution_count": 10,
     "metadata": {},
     "output_type": "execute_result"
    },
    {
     "data": {
      "image/png": "[encoded data removed]",
      "text/plain": [
       "<Figure size 1000x600 with 1 Axes>"
      ]
     },
     "metadata": {},
     "output_type": "display_data"
    }
   ],
   "source": [
    "# To compare the products with the highest demand\n",
    "products = ['Wines', 'Fruits', 'Meat Products', 'Fish Products', 'Sweet Products', 'Gold Prods']\n",
    "prod_val = [tot_wine, tot_fruits, tot_meat, tot_fish, tot_sweets, tot_gold]\n",
    "hi_demand =products[np.argmax(prod_val)]\n",
    "lo_demand = products[np.argmin(prod_val)]\n",
    "plt.figure(figsize=(10,6))\n",
    "plt.title('Amount spent on different products')\n",
    "plt.xlabel('Products')\n",
    "plt.ylabel('Amount spent')\n",
    "plt.bar(products, prod_val)\n",
    "plt.show\n"
   ]
  },
  {
   "cell_type": "code",
   "execution_count": 11,
   "metadata": {},
   "outputs": [
    {
     "name": "stdout",
     "output_type": "stream",
     "text": [
      "From the Graph above, the amount spent on each product is as follows:\n",
      "Wines: $680816\n",
      "Fruits: $58917\n",
      "Meat Products: $373968\n",
      "Fish Products: $84057\n",
      "Sweet Products: $60621\n",
      "Gold Prods: $98609\n",
      "\n",
      "This shows that Wines have the highest demand with a total purchase of $680816\n",
      "and Fruits have the lowest demand with a purchase of $58917 as evident in our Bar chart\n"
     ]
    }
   ],
   "source": [
    "print('From the Graph above, the amount spent on each product is as follows:')\n",
    "for prod, amount in zip(products, prod_val):\n",
    "    print(f'{prod}: ${amount}')\n",
    "\n",
    "print(f'\\nThis shows that {hi_demand} have the highest demand with a total purchase of ${max(prod_val)}\\n'\n",
    "      f'and {lo_demand} have the lowest demand with a purchase of ${min(prod_val)} as evident in our Bar chart')"
   ]
  },
  {
   "cell_type": "code",
   "execution_count": 12,
   "metadata": {},
   "outputs": [
    {
     "name": "stdout",
     "output_type": "stream",
     "text": [
      "The Maximum Purchase made on each product is as follows:\n",
      "Wines: $1493\n",
      "Fruits: $199\n",
      "Meat Products: $1725\n",
      "Fish Products: $259\n",
      "Sweet Products: $263\n",
      "Gold Prods: $362\n"
     ]
    }
   ],
   "source": [
    "print('The Maximum Purchase made on each product is as follows:')\n",
    "for prod, amt in zip(products, max_vals):\n",
    "    print(f'{prod}: ${amt}')"
   ]
  },
  {
   "cell_type": "code",
   "execution_count": 13,
   "metadata": {},
   "outputs": [
    {
     "name": "stdout",
     "output_type": "stream",
     "text": [
      "The MInimum Purchase made on each product is as follows:\n",
      "Wines: $0\n",
      "Fruits: $0\n",
      "Meat Products: $0\n",
      "Fish Products: $0\n",
      "Sweet Products: $0\n",
      "Gold Prods: $0\n"
     ]
    }
   ],
   "source": [
    "print('The MInimum Purchase made on each product is as follows:')\n",
    "for prod, amt in zip(products, min_vals):\n",
    "    print(f'{prod}: ${amt}')"
   ]
  },
  {
   "cell_type": "code",
   "execution_count": 14,
   "metadata": {},
   "outputs": [
    {
     "name": "stdout",
     "output_type": "stream",
     "text": [
      "From our graph above Wines have the highest demand with a total purchase of $680816\n"
     ]
    }
   ],
   "source": [
    "print(f'From our graph above {hi_demand} have the highest demand with a total purchase of ${max(prod_val)}')"
   ]
  },
  {
   "cell_type": "code",
   "execution_count": 15,
   "metadata": {},
   "outputs": [],
   "source": [
    "\n",
    "# Marital status \n",
    "married = data[marital_stat == 'Married']\n",
    "divorced = data[marital_stat == 'Divorced']\n",
    "single = data[marital_stat == 'Single']\n",
    "together = data[marital_stat == 'Together']"
   ]
  },
  {
   "cell_type": "code",
   "execution_count": 16,
   "metadata": {},
   "outputs": [
    {
     "name": "stdout",
     "output_type": "stream",
     "text": [
      "The Purchase power of customers according to marital status:\n",
      "Divorced: $12257541.0\n",
      "Single: $24018810.0\n",
      "Married: $44328307.0\n",
      "Together: $30509691.0\n",
      "From this analysis it shows that the customers with the highest purchase power according to Marital status are Married couples\n"
     ]
    }
   ],
   "source": [
    "# To compare cusomers purchase power according to their marital status\n",
    "divorce_income = np.sum(divorced['Income'])\n",
    "married_income = np.sum(married['Income'])\n",
    "single_income = np.sum(single['Income'])\n",
    "together_income = np.sum(together['Income'])\n",
    "marital_stats = ['Divorced', 'Single', 'Married', 'Together']\n",
    "\n",
    "# Income according to marital status\n",
    "marital_incomes = [divorce_income, single_income, married_income, together_income]\n",
    "\n",
    "print('The Purchase power of customers according to marital status:')\n",
    "for ms, income in zip(marital_stats, marital_incomes):\n",
    "    print(f'{ms}: ${income}')\n",
    "\n",
    "high_purchase_power  = marital_stats[np.argmax(marital_incomes)]\n",
    "\n",
    "print(f'From this analysis it shows that the customers with the highest purchase power according to Marital status are {high_purchase_power} couples')"
   ]
  },
  {
   "cell_type": "code",
   "execution_count": 17,
   "metadata": {},
   "outputs": [
    {
     "data": {
      "text/plain": [
       "<function matplotlib.pyplot.show(close=None, block=None)>"
      ]
     },
     "execution_count": 17,
     "metadata": {},
     "output_type": "execute_result"
    },
    {
     "data": {
      "image/png": "[encoded data removed]",
      "text/plain": [
       "<Figure size 800x700 with 1 Axes>"
      ]
     },
     "metadata": {},
     "output_type": "display_data"
    }
   ],
   "source": [
    "# To compare the purchase power of customers according to Marital status\n",
    "plt.figure(figsize=(8,7))\n",
    "# plt.style.use('seaborn')\n",
    "plt.title('Purchase power according to marital status')\n",
    "plt.xlabel('Marital Status')\n",
    "plt.ylabel('Income')\n",
    "plt.bar(marital_stats, marital_incomes)\n",
    "plt.show"
   ]
  },
  {
   "cell_type": "code",
   "execution_count": 18,
   "metadata": {},
   "outputs": [
    {
     "name": "stdout",
     "output_type": "stream",
     "text": [
      "NOTE: The amount spent is in ten million dollars\n"
     ]
    }
   ],
   "source": [
    "print('NOTE: The amount spent is in ten million dollars')"
   ]
  },
  {
   "cell_type": "markdown",
   "metadata": {},
   "source": [
    "Analysing the Data set according to Educational Levels"
   ]
  },
  {
   "cell_type": "code",
   "execution_count": 19,
   "metadata": {},
   "outputs": [],
   "source": [
    "# Education levels\n",
    "graduants = data[education_lvl == 'Graduation']\n",
    "phd = data[education_lvl == 'PhD']\n",
    "masters = data[education_lvl == 'Master']\n",
    "other = data[education_lvl == '2n Cycle']\n"
   ]
  },
  {
   "cell_type": "code",
   "execution_count": 20,
   "metadata": {},
   "outputs": [
    {
     "name": "stdout",
     "output_type": "stream",
     "text": [
      "The Purchase power of customers according to educational level:\n",
      "Graduates: $58835937.0\n",
      "Phd Holders: $19314900.0\n",
      "Masters Holders: $27005896.0\n",
      "Other: $9526638.0\n",
      "\n",
      "From this analysis it shows that the customers with the highest purchase power according to Education Level are individuals who are Graduates \n"
     ]
    }
   ],
   "source": [
    "graduant_income = np.sum(graduants['Income'])\n",
    "phd_income = np.sum(phd['Income'])\n",
    "masters_income = np.sum(masters['Income'])\n",
    "other_income = np.sum(other['Income'])\n",
    "ed_lvls = ['Graduates', 'Phd Holders', 'Masters Holders', 'Other']\n",
    "\n",
    "# Income according to educational level\n",
    "ed_lvl_incomes = [graduant_income, masters_income, phd_income, other_income]\n",
    "\n",
    "print('The Purchase power of customers according to educational level:')\n",
    "for ed, income in zip(ed_lvls, ed_lvl_incomes):\n",
    "    print(f'{ed}: ${income}')\n",
    "\n",
    "high_purchase_power  = ed_lvls[np.argmax(ed_lvl_incomes)]\n",
    "\n",
    "print(f'\\nFrom this analysis it shows that the customers with the highest purchase power according to Education Level are individuals who are {high_purchase_power} ')"
   ]
  },
  {
   "cell_type": "code",
   "execution_count": 21,
   "metadata": {},
   "outputs": [
    {
     "data": {
      "text/plain": [
       "<function matplotlib.pyplot.show(close=None, block=None)>"
      ]
     },
     "execution_count": 21,
     "metadata": {},
     "output_type": "execute_result"
    },
    {
     "data": {
      "image/png": "[encoded data removed]",
      "text/plain": [
       "<Figure size 800x700 with 1 Axes>"
      ]
     },
     "metadata": {},
     "output_type": "display_data"
    }
   ],
   "source": [
    "# To compare the purchase power of customers according to Educational Level\n",
    "plt.figure(figsize=(8,7))\n",
    "# plt.style.use('seaborn')\n",
    "plt.title('Purchase power according to Level of Education')\n",
    "plt.xlabel('Educational lvl')\n",
    "plt.ylabel('Income')\n",
    "plt.bar(ed_lvls, ed_lvl_incomes)\n",
    "plt.show"
   ]
  },
  {
   "cell_type": "code",
   "execution_count": 22,
   "metadata": {},
   "outputs": [
    {
     "data": {
      "image/png": "[encoded data removed]",
      "text/plain": [
       "<Figure size 1000x600 with 1 Axes>"
      ]
     },
     "metadata": {},
     "output_type": "display_data"
    }
   ],
   "source": [
    "# 1. Income Distribution\n",
    "plt.figure(figsize=(10, 6))\n",
    "plt.plot(data['Income'].dropna())\n",
    "# sns.histplot(data['Income'].dropna(), kde=True, color='skyblue', bins=30)\n",
    "plt.title('Income Distribution')\n",
    "plt.xlabel('Income')\n",
    "plt.ylabel('Frequency')\n",
    "plt.show()"
   ]
  },
  {
   "cell_type": "code",
   "execution_count": 23,
   "metadata": {},
   "outputs": [
    {
     "name": "stdout",
     "output_type": "stream",
     "text": [
      "The average income of the customers in the mall is $52247.25\n",
      "51.61% of the total customers have a high income greater than $50000\n"
     ]
    }
   ],
   "source": [
    "income = data['Income']\n",
    "high_income = data[data['Income'] > 50000]\n",
    "total_income = np.sum(data['Income'])\n",
    "avg_income = np.mean(data['Income']).round(2)\n",
    "income_percent = (len(high_income) / len(data)) * 100\n",
    "print(f'The average income of the customers in the mall is ${avg_income}')\n",
    "print(f'{income_percent.__round__(2)}% of the total customers have a high income greater than $50000')\n",
    "\n"
   ]
  },
  {
   "cell_type": "code",
   "execution_count": 24,
   "metadata": {},
   "outputs": [],
   "source": [
    "# Purchsase power according to Parenting \n",
    "\n",
    "# family status\n",
    "kids = (data['Kidhome'] > 0) | (data['Teenhome'] > 0) \n",
    "family = kids &  (data['Marital_Status'] == 'Married')\n",
    "single_parents =  (data['Marital_Status'] == 'Single') & kids \n",
    "co_parents = (data['Marital_Status'] == 'Together') & kids\n"
   ]
  },
  {
   "cell_type": "code",
   "execution_count": null,
   "metadata": {},
   "outputs": [],
   "source": []
  }
 ],
 "metadata": {
  "kernelspec": {
   "display_name": "myenv",
   "language": "python",
   "name": "python3"
  },
  "language_info": {
   "codemirror_mode": {
    "name": "ipython",
    "version": 3
   },
   "file_extension": ".py",
   "mimetype": "text/x-python",
   "name": "python",
   "nbconvert_exporter": "python",
   "pygments_lexer": "ipython3",
   "version": "3.10.15"
  }
 },
 "nbformat": 4,
 "nbformat_minor": 2
}
